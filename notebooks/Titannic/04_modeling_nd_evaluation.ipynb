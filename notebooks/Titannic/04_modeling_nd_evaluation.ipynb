{
 "cells": [
  {
   "cell_type": "markdown",
   "metadata": {},
   "source": [
    "# 4. Prediction using Different Machine Learning Models"
   ]
  },
  {
   "cell_type": "code",
   "execution_count": 6,
   "metadata": {},
   "outputs": [],
   "source": [
    "import pandas as pd"
   ]
  },
  {
   "cell_type": "code",
   "execution_count": 7,
   "metadata": {},
   "outputs": [],
   "source": [
    "df_train = pd.read_csv(\"../../data/Titanic/train_processed.csv\")"
   ]
  },
  {
   "cell_type": "code",
   "execution_count": 8,
   "metadata": {},
   "outputs": [
    {
     "data": {
      "text/html": [
       "<div>\n",
       "<style scoped>\n",
       "    .dataframe tbody tr th:only-of-type {\n",
       "        vertical-align: middle;\n",
       "    }\n",
       "\n",
       "    .dataframe tbody tr th {\n",
       "        vertical-align: top;\n",
       "    }\n",
       "\n",
       "    .dataframe thead th {\n",
       "        text-align: right;\n",
       "    }\n",
       "</style>\n",
       "<table border=\"1\" class=\"dataframe\">\n",
       "  <thead>\n",
       "    <tr style=\"text-align: right;\">\n",
       "      <th></th>\n",
       "      <th>PassengerId</th>\n",
       "      <th>Survived</th>\n",
       "      <th>Pclass</th>\n",
       "      <th>Name</th>\n",
       "      <th>Sex</th>\n",
       "      <th>Age</th>\n",
       "      <th>SibSp</th>\n",
       "      <th>Parch</th>\n",
       "      <th>Ticket</th>\n",
       "      <th>Fare</th>\n",
       "      <th>...</th>\n",
       "      <th>embarked_S</th>\n",
       "      <th>Pclass_1</th>\n",
       "      <th>Pclass_2</th>\n",
       "      <th>Pclass_3</th>\n",
       "      <th>Sex_female</th>\n",
       "      <th>Sex_male</th>\n",
       "      <th>Embarked_no</th>\n",
       "      <th>Sex_no</th>\n",
       "      <th>age_scaled</th>\n",
       "      <th>fare_scaled</th>\n",
       "    </tr>\n",
       "  </thead>\n",
       "  <tbody>\n",
       "    <tr>\n",
       "      <th>0</th>\n",
       "      <td>1</td>\n",
       "      <td>0</td>\n",
       "      <td>3</td>\n",
       "      <td>Braund, Mr. Owen Harris</td>\n",
       "      <td>male</td>\n",
       "      <td>22.0</td>\n",
       "      <td>1</td>\n",
       "      <td>0</td>\n",
       "      <td>A/5 21171</td>\n",
       "      <td>7.2500</td>\n",
       "      <td>...</td>\n",
       "      <td>1</td>\n",
       "      <td>0</td>\n",
       "      <td>0</td>\n",
       "      <td>1</td>\n",
       "      <td>0</td>\n",
       "      <td>1</td>\n",
       "      <td>0</td>\n",
       "      <td>0</td>\n",
       "      <td>-0.592481</td>\n",
       "      <td>-0.502445</td>\n",
       "    </tr>\n",
       "    <tr>\n",
       "      <th>1</th>\n",
       "      <td>2</td>\n",
       "      <td>1</td>\n",
       "      <td>1</td>\n",
       "      <td>Cumings, Mrs. John Bradley (Florence Briggs Th...</td>\n",
       "      <td>female</td>\n",
       "      <td>38.0</td>\n",
       "      <td>1</td>\n",
       "      <td>0</td>\n",
       "      <td>PC 17599</td>\n",
       "      <td>71.2833</td>\n",
       "      <td>...</td>\n",
       "      <td>0</td>\n",
       "      <td>1</td>\n",
       "      <td>0</td>\n",
       "      <td>0</td>\n",
       "      <td>1</td>\n",
       "      <td>0</td>\n",
       "      <td>1</td>\n",
       "      <td>1</td>\n",
       "      <td>0.638789</td>\n",
       "      <td>0.786845</td>\n",
       "    </tr>\n",
       "    <tr>\n",
       "      <th>2</th>\n",
       "      <td>3</td>\n",
       "      <td>1</td>\n",
       "      <td>3</td>\n",
       "      <td>Heikkinen, Miss. Laina</td>\n",
       "      <td>female</td>\n",
       "      <td>26.0</td>\n",
       "      <td>0</td>\n",
       "      <td>0</td>\n",
       "      <td>STON/O2. 3101282</td>\n",
       "      <td>7.9250</td>\n",
       "      <td>...</td>\n",
       "      <td>1</td>\n",
       "      <td>0</td>\n",
       "      <td>0</td>\n",
       "      <td>1</td>\n",
       "      <td>1</td>\n",
       "      <td>0</td>\n",
       "      <td>0</td>\n",
       "      <td>1</td>\n",
       "      <td>-0.284663</td>\n",
       "      <td>-0.488854</td>\n",
       "    </tr>\n",
       "    <tr>\n",
       "      <th>3</th>\n",
       "      <td>4</td>\n",
       "      <td>1</td>\n",
       "      <td>1</td>\n",
       "      <td>Futrelle, Mrs. Jacques Heath (Lily May Peel)</td>\n",
       "      <td>female</td>\n",
       "      <td>35.0</td>\n",
       "      <td>1</td>\n",
       "      <td>0</td>\n",
       "      <td>113803</td>\n",
       "      <td>53.1000</td>\n",
       "      <td>...</td>\n",
       "      <td>1</td>\n",
       "      <td>1</td>\n",
       "      <td>0</td>\n",
       "      <td>0</td>\n",
       "      <td>1</td>\n",
       "      <td>0</td>\n",
       "      <td>0</td>\n",
       "      <td>1</td>\n",
       "      <td>0.407926</td>\n",
       "      <td>0.420730</td>\n",
       "    </tr>\n",
       "    <tr>\n",
       "      <th>4</th>\n",
       "      <td>5</td>\n",
       "      <td>0</td>\n",
       "      <td>3</td>\n",
       "      <td>Allen, Mr. William Henry</td>\n",
       "      <td>male</td>\n",
       "      <td>35.0</td>\n",
       "      <td>0</td>\n",
       "      <td>0</td>\n",
       "      <td>373450</td>\n",
       "      <td>8.0500</td>\n",
       "      <td>...</td>\n",
       "      <td>1</td>\n",
       "      <td>0</td>\n",
       "      <td>0</td>\n",
       "      <td>1</td>\n",
       "      <td>0</td>\n",
       "      <td>1</td>\n",
       "      <td>0</td>\n",
       "      <td>0</td>\n",
       "      <td>0.407926</td>\n",
       "      <td>-0.486337</td>\n",
       "    </tr>\n",
       "  </tbody>\n",
       "</table>\n",
       "<p>5 rows × 23 columns</p>\n",
       "</div>"
      ],
      "text/plain": [
       "   PassengerId  Survived  Pclass  \\\n",
       "0            1         0       3   \n",
       "1            2         1       1   \n",
       "2            3         1       3   \n",
       "3            4         1       1   \n",
       "4            5         0       3   \n",
       "\n",
       "                                                Name     Sex   Age  SibSp  \\\n",
       "0                            Braund, Mr. Owen Harris    male  22.0      1   \n",
       "1  Cumings, Mrs. John Bradley (Florence Briggs Th...  female  38.0      1   \n",
       "2                             Heikkinen, Miss. Laina  female  26.0      0   \n",
       "3       Futrelle, Mrs. Jacques Heath (Lily May Peel)  female  35.0      1   \n",
       "4                           Allen, Mr. William Henry    male  35.0      0   \n",
       "\n",
       "   Parch            Ticket     Fare     ...      embarked_S  Pclass_1  \\\n",
       "0      0         A/5 21171   7.2500     ...               1         0   \n",
       "1      0          PC 17599  71.2833     ...               0         1   \n",
       "2      0  STON/O2. 3101282   7.9250     ...               1         0   \n",
       "3      0            113803  53.1000     ...               1         1   \n",
       "4      0            373450   8.0500     ...               1         0   \n",
       "\n",
       "   Pclass_2  Pclass_3  Sex_female  Sex_male  Embarked_no  Sex_no  age_scaled  \\\n",
       "0         0         1           0         1            0       0   -0.592481   \n",
       "1         0         0           1         0            1       1    0.638789   \n",
       "2         0         1           1         0            0       1   -0.284663   \n",
       "3         0         0           1         0            0       1    0.407926   \n",
       "4         0         1           0         1            0       0    0.407926   \n",
       "\n",
       "   fare_scaled  \n",
       "0    -0.502445  \n",
       "1     0.786845  \n",
       "2    -0.488854  \n",
       "3     0.420730  \n",
       "4    -0.486337  \n",
       "\n",
       "[5 rows x 23 columns]"
      ]
     },
     "execution_count": 8,
     "metadata": {},
     "output_type": "execute_result"
    }
   ],
   "source": [
    "df_train.head()"
   ]
  },
  {
   "cell_type": "code",
   "execution_count": 15,
   "metadata": {},
   "outputs": [],
   "source": [
    "keep_columns = ['Survived', 'Pclass', 'SibSp',\n",
    "       'Parch', 'age_scaled', 'Pclass_1',\n",
    "        'embarked_C', 'embarked_Q','embarked_S',\n",
    "       'Pclass_2', 'Pclass_3', 'Sex_female', 'Sex_male', 'fare_scaled']"
   ]
  },
  {
   "cell_type": "code",
   "execution_count": 16,
   "metadata": {},
   "outputs": [
    {
     "data": {
      "text/html": [
       "<div>\n",
       "<style scoped>\n",
       "    .dataframe tbody tr th:only-of-type {\n",
       "        vertical-align: middle;\n",
       "    }\n",
       "\n",
       "    .dataframe tbody tr th {\n",
       "        vertical-align: top;\n",
       "    }\n",
       "\n",
       "    .dataframe thead th {\n",
       "        text-align: right;\n",
       "    }\n",
       "</style>\n",
       "<table border=\"1\" class=\"dataframe\">\n",
       "  <thead>\n",
       "    <tr style=\"text-align: right;\">\n",
       "      <th></th>\n",
       "      <th>Survived</th>\n",
       "      <th>Pclass</th>\n",
       "      <th>SibSp</th>\n",
       "      <th>Parch</th>\n",
       "      <th>age_scaled</th>\n",
       "      <th>Pclass_1</th>\n",
       "      <th>embarked_C</th>\n",
       "      <th>embarked_Q</th>\n",
       "      <th>embarked_S</th>\n",
       "      <th>Pclass_2</th>\n",
       "      <th>Pclass_3</th>\n",
       "      <th>Sex_female</th>\n",
       "      <th>Sex_male</th>\n",
       "      <th>fare_scaled</th>\n",
       "    </tr>\n",
       "  </thead>\n",
       "  <tbody>\n",
       "    <tr>\n",
       "      <th>0</th>\n",
       "      <td>0</td>\n",
       "      <td>3</td>\n",
       "      <td>1</td>\n",
       "      <td>0</td>\n",
       "      <td>-0.592481</td>\n",
       "      <td>0</td>\n",
       "      <td>0</td>\n",
       "      <td>0</td>\n",
       "      <td>1</td>\n",
       "      <td>0</td>\n",
       "      <td>1</td>\n",
       "      <td>0</td>\n",
       "      <td>1</td>\n",
       "      <td>-0.502445</td>\n",
       "    </tr>\n",
       "    <tr>\n",
       "      <th>1</th>\n",
       "      <td>1</td>\n",
       "      <td>1</td>\n",
       "      <td>1</td>\n",
       "      <td>0</td>\n",
       "      <td>0.638789</td>\n",
       "      <td>1</td>\n",
       "      <td>1</td>\n",
       "      <td>0</td>\n",
       "      <td>0</td>\n",
       "      <td>0</td>\n",
       "      <td>0</td>\n",
       "      <td>1</td>\n",
       "      <td>0</td>\n",
       "      <td>0.786845</td>\n",
       "    </tr>\n",
       "    <tr>\n",
       "      <th>2</th>\n",
       "      <td>1</td>\n",
       "      <td>3</td>\n",
       "      <td>0</td>\n",
       "      <td>0</td>\n",
       "      <td>-0.284663</td>\n",
       "      <td>0</td>\n",
       "      <td>0</td>\n",
       "      <td>0</td>\n",
       "      <td>1</td>\n",
       "      <td>0</td>\n",
       "      <td>1</td>\n",
       "      <td>1</td>\n",
       "      <td>0</td>\n",
       "      <td>-0.488854</td>\n",
       "    </tr>\n",
       "    <tr>\n",
       "      <th>3</th>\n",
       "      <td>1</td>\n",
       "      <td>1</td>\n",
       "      <td>1</td>\n",
       "      <td>0</td>\n",
       "      <td>0.407926</td>\n",
       "      <td>1</td>\n",
       "      <td>0</td>\n",
       "      <td>0</td>\n",
       "      <td>1</td>\n",
       "      <td>0</td>\n",
       "      <td>0</td>\n",
       "      <td>1</td>\n",
       "      <td>0</td>\n",
       "      <td>0.420730</td>\n",
       "    </tr>\n",
       "    <tr>\n",
       "      <th>4</th>\n",
       "      <td>0</td>\n",
       "      <td>3</td>\n",
       "      <td>0</td>\n",
       "      <td>0</td>\n",
       "      <td>0.407926</td>\n",
       "      <td>0</td>\n",
       "      <td>0</td>\n",
       "      <td>0</td>\n",
       "      <td>1</td>\n",
       "      <td>0</td>\n",
       "      <td>1</td>\n",
       "      <td>0</td>\n",
       "      <td>1</td>\n",
       "      <td>-0.486337</td>\n",
       "    </tr>\n",
       "  </tbody>\n",
       "</table>\n",
       "</div>"
      ],
      "text/plain": [
       "   Survived  Pclass  SibSp  Parch  age_scaled  Pclass_1  embarked_C  \\\n",
       "0         0       3      1      0   -0.592481         0           0   \n",
       "1         1       1      1      0    0.638789         1           1   \n",
       "2         1       3      0      0   -0.284663         0           0   \n",
       "3         1       1      1      0    0.407926         1           0   \n",
       "4         0       3      0      0    0.407926         0           0   \n",
       "\n",
       "   embarked_Q  embarked_S  Pclass_2  Pclass_3  Sex_female  Sex_male  \\\n",
       "0           0           1         0         1           0         1   \n",
       "1           0           0         0         0           1         0   \n",
       "2           0           1         0         1           1         0   \n",
       "3           0           1         0         0           1         0   \n",
       "4           0           1         0         1           0         1   \n",
       "\n",
       "   fare_scaled  \n",
       "0    -0.502445  \n",
       "1     0.786845  \n",
       "2    -0.488854  \n",
       "3     0.420730  \n",
       "4    -0.486337  "
      ]
     },
     "execution_count": 16,
     "metadata": {},
     "output_type": "execute_result"
    }
   ],
   "source": [
    "df_train_final = df_train[keep_columns]\n",
    "df_train_final.head()"
   ]
  },
  {
   "cell_type": "code",
   "execution_count": 41,
   "metadata": {},
   "outputs": [],
   "source": [
    "from sklearn.model_selection import train_test_split\n",
    "from sklearn.model_selection import GridSearchCV\n",
    "from sklearn.ensemble import RandomForestClassifier\n",
    "from sklearn.ensemble import AdaBoostClassifier\n",
    "from sklearn.ensemble import GradientBoostingClassifier\n",
    "from sklearn.neighbors import KNeighborsClassifier\n",
    "from sklearn.svm import SVC\n",
    "from sklearn.metrics import accuracy_score,roc_auc_score, roc_curve"
   ]
  },
  {
   "cell_type": "code",
   "execution_count": 32,
   "metadata": {},
   "outputs": [
    {
     "name": "stdout",
     "output_type": "stream",
     "text": [
      "(891, 13)\n",
      "(891,)\n"
     ]
    }
   ],
   "source": [
    "train_data_X = df_train_final.drop(['Survived'], axis=1)\n",
    "train_data_y = df_train_final['Survived']\n",
    "print(train_data_X.shape)\n",
    "print(train_data_y.shape)"
   ]
  },
  {
   "cell_type": "code",
   "execution_count": 33,
   "metadata": {},
   "outputs": [],
   "source": [
    "X_train, X_test, y_train, y_test = train_test_split(train_data_X, train_data_y, test_size=0.3, random_state=10)"
   ]
  },
  {
   "cell_type": "code",
   "execution_count": 69,
   "metadata": {},
   "outputs": [],
   "source": [
    "def get_top_n_features(X_train, y_train, top_n_features):\n",
    "    rf = RandomForestClassifier(random_state=0)\n",
    "    rf_params = {'n_estimators': [50, 300], 'min_samples_split': [2, 3], 'max_depth': [5, 10]}\n",
    "    rf_best = GridSearchCV(rf, rf_params, n_jobs=1, cv=10, verbose=1)\n",
    "    rf_best.fit(X_train, y_train)\n",
    "    print('Best RF Params:' + str(rf_best.best_params_))\n",
    "    print('Best RF Score:' + str(rf_best.best_score_))\n",
    "    print('RF Train Score:' + str(rf_best.score(X_train, y_train)))\n",
    "    feature_imp_sorted_rf = pd.DataFrame({'feature': list(X_train),\n",
    "                                          'importance': rf_best.best_estimator_.feature_importances_}).sort_values('importance', ascending=False)\n",
    "    print(feature_imp_sorted_rf)\n",
    "    features_top_n_rf = feature_imp_sorted_rf.head(top_n_features)['feature']\n",
    "    print('Sample 10 Features from RF Classifier')\n",
    "    print(str(features_top_n_rf[:10]))\n",
    "    \n",
    "    ada =AdaBoostClassifier(random_state=0)\n",
    "    ada_params = {'n_estimators': [50, 150, 300], 'learning_rate': [0.01, 0.1]}\n",
    "    ada_best = GridSearchCV(ada, ada_params, n_jobs=1, cv=10, verbose=1)\n",
    "    ada_best.fit(X_train, y_train)\n",
    "    print('Best Ada Params:' + str(ada_best.best_params_))\n",
    "    print('Best Ada Score:' + str(ada_best.best_score_))\n",
    "    print('Ada Train Score:' + str(ada_best.score(X_train, y_train)))\n",
    "    feature_imp_sorted_ada = pd.DataFrame({'feature': list(X_train),\n",
    "                                           'importance': ada_best.best_estimator_.feature_importances_}).sort_values('importance', ascending=False)\n",
    "    print(feature_imp_sorted_ada)\n",
    "    features_top_n_ada = feature_imp_sorted_ada.head(top_n_features)['feature']\n",
    "    print('Sample 10 Feature from Ada Classifier:')\n",
    "    print(str(features_top_n_ada[:10]))\n",
    "    \n",
    "    # GradientBoostingClassifier , DecisionTreeClassifier & others\n",
    "    \n",
    "    # merge\n",
    "    features_top_n = pd.concat([features_top_n_rf, features_top_n_ada], \n",
    "                               ignore_index=True).drop_duplicates()\n",
    "    features_importance = pd.concat([feature_imp_sorted_rf, feature_imp_sorted_ada],ignore_index=True)\n",
    "    return features_top_n , features_importance"
   ]
  },
  {
   "cell_type": "code",
   "execution_count": 70,
   "metadata": {},
   "outputs": [
    {
     "name": "stdout",
     "output_type": "stream",
     "text": [
      "Fitting 10 folds for each of 8 candidates, totalling 80 fits\n"
     ]
    },
    {
     "name": "stderr",
     "output_type": "stream",
     "text": [
      "[Parallel(n_jobs=1)]: Done  80 out of  80 | elapsed:   19.7s finished\n"
     ]
    },
    {
     "name": "stdout",
     "output_type": "stream",
     "text": [
      "Best RF Params:{'n_estimators': 50, 'max_depth': 10, 'min_samples_split': 3}\n",
      "Best RF Score:0.812199036918138\n",
      "RF Train Score:0.9357945425361156\n",
      "        feature  importance\n",
      "12  fare_scaled    0.210995\n",
      "3    age_scaled    0.204146\n",
      "11     Sex_male    0.170347\n",
      "10   Sex_female    0.156971\n",
      "1         SibSp    0.058437\n",
      "9      Pclass_3    0.046250\n",
      "2         Parch    0.042442\n",
      "0        Pclass    0.029850\n",
      "4      Pclass_1    0.026239\n",
      "7    embarked_S    0.020116\n",
      "5    embarked_C    0.019344\n",
      "8      Pclass_2    0.008887\n",
      "6    embarked_Q    0.005976\n",
      "Sample 10 Features from RF Classifier\n",
      "12    fare_scaled\n",
      "3      age_scaled\n",
      "11       Sex_male\n",
      "10     Sex_female\n",
      "1           SibSp\n",
      "9        Pclass_3\n",
      "2           Parch\n",
      "0          Pclass\n",
      "4        Pclass_1\n",
      "7      embarked_S\n",
      "Name: feature, dtype: object\n",
      "Fitting 10 folds for each of 6 candidates, totalling 60 fits\n"
     ]
    },
    {
     "name": "stderr",
     "output_type": "stream",
     "text": [
      "[Parallel(n_jobs=1)]: Done  60 out of  60 | elapsed:   14.2s finished\n"
     ]
    },
    {
     "name": "stdout",
     "output_type": "stream",
     "text": [
      "Best Ada Params:{'n_estimators': 300, 'learning_rate': 0.01}\n",
      "Best Ada Score:0.797752808988764\n",
      "Ada Train Score:0.8009630818619583\n",
      "        feature  importance\n",
      "11     Sex_male    0.286667\n",
      "10   Sex_female    0.240000\n",
      "0        Pclass    0.180000\n",
      "1         SibSp    0.156667\n",
      "4      Pclass_1    0.073333\n",
      "9      Pclass_3    0.036667\n",
      "5    embarked_C    0.013333\n",
      "12  fare_scaled    0.013333\n",
      "2         Parch    0.000000\n",
      "3    age_scaled    0.000000\n",
      "6    embarked_Q    0.000000\n",
      "7    embarked_S    0.000000\n",
      "8      Pclass_2    0.000000\n",
      "Sample 10 Feature from Ada Classifier:\n",
      "11       Sex_male\n",
      "10     Sex_female\n",
      "0          Pclass\n",
      "1           SibSp\n",
      "4        Pclass_1\n",
      "9        Pclass_3\n",
      "5      embarked_C\n",
      "12    fare_scaled\n",
      "2           Parch\n",
      "3      age_scaled\n",
      "Name: feature, dtype: object\n"
     ]
    }
   ],
   "source": [
    "features_top_n, features_importance = get_top_n_features(X_train, y_train, 10)"
   ]
  },
  {
   "cell_type": "code",
   "execution_count": 71,
   "metadata": {},
   "outputs": [
    {
     "name": "stdout",
     "output_type": "stream",
     "text": [
      "0     fare_scaled\n",
      "1      age_scaled\n",
      "2        Sex_male\n",
      "3      Sex_female\n",
      "4           SibSp\n",
      "5        Pclass_3\n",
      "6           Parch\n",
      "7          Pclass\n",
      "8        Pclass_1\n",
      "9      embarked_S\n",
      "16     embarked_C\n",
      "Name: feature, dtype: object\n",
      "        feature  importance\n",
      "0   fare_scaled    0.210995\n",
      "1    age_scaled    0.204146\n",
      "2      Sex_male    0.170347\n",
      "3    Sex_female    0.156971\n",
      "4         SibSp    0.058437\n",
      "5      Pclass_3    0.046250\n",
      "6         Parch    0.042442\n",
      "7        Pclass    0.029850\n",
      "8      Pclass_1    0.026239\n",
      "9    embarked_S    0.020116\n",
      "10   embarked_C    0.019344\n",
      "11     Pclass_2    0.008887\n",
      "12   embarked_Q    0.005976\n",
      "13     Sex_male    0.286667\n",
      "14   Sex_female    0.240000\n",
      "15       Pclass    0.180000\n",
      "16        SibSp    0.156667\n",
      "17     Pclass_1    0.073333\n",
      "18     Pclass_3    0.036667\n",
      "19   embarked_C    0.013333\n",
      "20  fare_scaled    0.013333\n",
      "21        Parch    0.000000\n",
      "22   age_scaled    0.000000\n",
      "23   embarked_Q    0.000000\n",
      "24   embarked_S    0.000000\n",
      "25     Pclass_2    0.000000\n"
     ]
    }
   ],
   "source": [
    "print(features_top_n)\n",
    "print(features_importance)"
   ]
  },
  {
   "cell_type": "code",
   "execution_count": 73,
   "metadata": {},
   "outputs": [
    {
     "name": "stdout",
     "output_type": "stream",
     "text": [
      "0.8246268656716418\n"
     ]
    },
    {
     "name": "stderr",
     "output_type": "stream",
     "text": [
      "[Parallel(n_jobs=1)]: Done 300 out of 300 | elapsed:    0.1s finished\n",
      "[Parallel(n_jobs=1)]: Done 300 out of 300 | elapsed:    0.0s finished\n"
     ]
    }
   ],
   "source": [
    "rf_clf = RandomForestClassifier(n_estimators=300, max_depth=10, \n",
    "                            min_samples_split=3, n_jobs=1, verbose=1)\n",
    "rf_clf.fit(X_train, y_train)\n",
    "predictions = rf_clf.predict(X_test)\n",
    "print(accuracy_score(y_test, predictions))"
   ]
  },
  {
   "cell_type": "code",
   "execution_count": 74,
   "metadata": {},
   "outputs": [
    {
     "name": "stdout",
     "output_type": "stream",
     "text": [
      "0.7947761194029851\n"
     ]
    }
   ],
   "source": [
    "ada_clf = AdaBoostClassifier(n_estimators=300, learning_rate=0.01)\n",
    "ada_clf.fit(X_train, y_train)\n",
    "predictions = ada_clf.predict(X_test)\n",
    "print(accuracy_score(y_test, predictions))"
   ]
  },
  {
   "cell_type": "code",
   "execution_count": 83,
   "metadata": {},
   "outputs": [
    {
     "name": "stdout",
     "output_type": "stream",
     "text": [
      "0.8059701492537313\n"
     ]
    }
   ],
   "source": [
    "svm = SVC(kernel=\"linear\", C=0.025)\n",
    "svm.fit(X_train, y_train)\n",
    "predictions = svm.predict(X_test)\n",
    "print(accuracy_score(y_test, predictions))"
   ]
  },
  {
   "cell_type": "markdown",
   "metadata": {},
   "source": [
    "**可以看到准确率只能达到80%，这可能和特征处理有很大的关系。Age我们直接填充了均值；票价分桶效果是不是更好；丢弃了name, ticket等信息，这里应该还可以挖掘，比如人名中称谓；以及构造更多的特征。这里也足以看出特产对结果的影响。有名的一句话是Garbage in, garbage out。特征决定了上限。在实际工作中我们需要理解业务背后的故事，以及花更多的时间处理特征。**"
   ]
  },
  {
   "cell_type": "markdown",
   "metadata": {},
   "source": [
    "##### 模型融合，to be continued..."
   ]
  },
  {
   "cell_type": "code",
   "execution_count": null,
   "metadata": {},
   "outputs": [],
   "source": []
  },
  {
   "cell_type": "code",
   "execution_count": null,
   "metadata": {},
   "outputs": [],
   "source": []
  }
 ],
 "metadata": {
  "kernelspec": {
   "display_name": "Python 3",
   "language": "python",
   "name": "python3"
  },
  "language_info": {
   "codemirror_mode": {
    "name": "ipython",
    "version": 3
   },
   "file_extension": ".py",
   "mimetype": "text/x-python",
   "name": "python",
   "nbconvert_exporter": "python",
   "pygments_lexer": "ipython3",
   "version": "3.5.5"
  }
 },
 "nbformat": 4,
 "nbformat_minor": 2
}
